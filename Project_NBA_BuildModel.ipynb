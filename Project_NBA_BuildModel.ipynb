{
 "cells": [
  {
   "cell_type": "code",
   "execution_count": 1,
   "metadata": {
    "collapsed": true
   },
   "outputs": [],
   "source": [
    "import numpy as np\n",
    "import pandas as pd\n",
    "from collections import defaultdict\n",
    "from matplotlib import pyplot as plt\n",
    "%matplotlib inline"
   ]
  },
  {
   "cell_type": "code",
   "execution_count": 2,
   "metadata": {
    "collapsed": true
   },
   "outputs": [],
   "source": [
    "from sklearn import model_selection\n",
    "from sklearn.linear_model import LinearRegression\n",
    "from sklearn.preprocessing import StandardScaler\n",
    "from sklearn.tree import DecisionTreeRegressor\n",
    "from sklearn import linear_model\n",
    "from sklearn import metrics\n",
    "from sklearn.ensemble import RandomForestClassifier"
   ]
  },
  {
   "cell_type": "code",
   "execution_count": 5,
   "metadata": {},
   "outputs": [],
   "source": [
    "df = pd.read_csv(\"new_college.csv\")"
   ]
  },
  {
   "cell_type": "code",
   "execution_count": 6,
   "metadata": {},
   "outputs": [
    {
     "data": {
      "text/html": [
       "<div>\n",
       "<table border=\"1\" class=\"dataframe\">\n",
       "  <thead>\n",
       "    <tr style=\"text-align: right;\">\n",
       "      <th></th>\n",
       "      <th>Name</th>\n",
       "      <th>G</th>\n",
       "      <th>FGA</th>\n",
       "      <th>3PA</th>\n",
       "      <th>FTA</th>\n",
       "      <th>ORB</th>\n",
       "      <th>TRB.1</th>\n",
       "      <th>AST.1</th>\n",
       "      <th>STL</th>\n",
       "      <th>BLK</th>\n",
       "      <th>...</th>\n",
       "      <th>Years</th>\n",
       "      <th>AP</th>\n",
       "      <th>LAT</th>\n",
       "      <th>SR</th>\n",
       "      <th>TQS</th>\n",
       "      <th>SVL</th>\n",
       "      <th>MVL</th>\n",
       "      <th>MBP</th>\n",
       "      <th>VORP</th>\n",
       "      <th>VORP_Max</th>\n",
       "    </tr>\n",
       "  </thead>\n",
       "  <tbody>\n",
       "    <tr>\n",
       "      <th>0</th>\n",
       "      <td>abdelal01</td>\n",
       "      <td>33.500000</td>\n",
       "      <td>5.375016</td>\n",
       "      <td>NaN</td>\n",
       "      <td>2.340140</td>\n",
       "      <td>NaN</td>\n",
       "      <td>3.525</td>\n",
       "      <td>0.325</td>\n",
       "      <td>0.351910</td>\n",
       "      <td>0.484922</td>\n",
       "      <td>...</td>\n",
       "      <td>4.0</td>\n",
       "      <td>0.500000</td>\n",
       "      <td>NaN</td>\n",
       "      <td>NaN</td>\n",
       "      <td>NaN</td>\n",
       "      <td>NaN</td>\n",
       "      <td>NaN</td>\n",
       "      <td>NaN</td>\n",
       "      <td>-0.460000</td>\n",
       "      <td>-0.2</td>\n",
       "    </tr>\n",
       "    <tr>\n",
       "      <th>1</th>\n",
       "      <td>abdulma02</td>\n",
       "      <td>32.000000</td>\n",
       "      <td>21.890625</td>\n",
       "      <td>7.218750</td>\n",
       "      <td>6.406250</td>\n",
       "      <td>NaN</td>\n",
       "      <td>2.950</td>\n",
       "      <td>3.650</td>\n",
       "      <td>1.671875</td>\n",
       "      <td>0.109375</td>\n",
       "      <td>...</td>\n",
       "      <td>2.0</td>\n",
       "      <td>0.000000</td>\n",
       "      <td>NaN</td>\n",
       "      <td>NaN</td>\n",
       "      <td>NaN</td>\n",
       "      <td>NaN</td>\n",
       "      <td>NaN</td>\n",
       "      <td>NaN</td>\n",
       "      <td>-0.088889</td>\n",
       "      <td>1.6</td>\n",
       "    </tr>\n",
       "    <tr>\n",
       "      <th>2</th>\n",
       "      <td>abdulta01</td>\n",
       "      <td>27.666667</td>\n",
       "      <td>11.285641</td>\n",
       "      <td>1.922756</td>\n",
       "      <td>4.859071</td>\n",
       "      <td>NaN</td>\n",
       "      <td>5.800</td>\n",
       "      <td>1.400</td>\n",
       "      <td>1.020833</td>\n",
       "      <td>0.599423</td>\n",
       "      <td>...</td>\n",
       "      <td>3.0</td>\n",
       "      <td>0.333333</td>\n",
       "      <td>NaN</td>\n",
       "      <td>NaN</td>\n",
       "      <td>NaN</td>\n",
       "      <td>NaN</td>\n",
       "      <td>NaN</td>\n",
       "      <td>NaN</td>\n",
       "      <td>-0.216667</td>\n",
       "      <td>0.2</td>\n",
       "    </tr>\n",
       "    <tr>\n",
       "      <th>3</th>\n",
       "      <td>abdursh01</td>\n",
       "      <td>28.000000</td>\n",
       "      <td>14.214286</td>\n",
       "      <td>0.750000</td>\n",
       "      <td>8.892857</td>\n",
       "      <td>NaN</td>\n",
       "      <td>8.400</td>\n",
       "      <td>1.000</td>\n",
       "      <td>1.857143</td>\n",
       "      <td>1.250000</td>\n",
       "      <td>...</td>\n",
       "      <td>1.0</td>\n",
       "      <td>0.000000</td>\n",
       "      <td>NaN</td>\n",
       "      <td>NaN</td>\n",
       "      <td>NaN</td>\n",
       "      <td>NaN</td>\n",
       "      <td>NaN</td>\n",
       "      <td>NaN</td>\n",
       "      <td>1.772727</td>\n",
       "      <td>3.5</td>\n",
       "    </tr>\n",
       "    <tr>\n",
       "      <th>4</th>\n",
       "      <td>ackeral01</td>\n",
       "      <td>29.333333</td>\n",
       "      <td>11.107461</td>\n",
       "      <td>3.282642</td>\n",
       "      <td>3.524432</td>\n",
       "      <td>NaN</td>\n",
       "      <td>5.600</td>\n",
       "      <td>2.800</td>\n",
       "      <td>1.515493</td>\n",
       "      <td>0.430174</td>\n",
       "      <td>...</td>\n",
       "      <td>3.0</td>\n",
       "      <td>0.000000</td>\n",
       "      <td>11.67</td>\n",
       "      <td>NaN</td>\n",
       "      <td>3.35</td>\n",
       "      <td>28.0</td>\n",
       "      <td>32.0</td>\n",
       "      <td>11.0</td>\n",
       "      <td>-0.150000</td>\n",
       "      <td>-0.1</td>\n",
       "    </tr>\n",
       "  </tbody>\n",
       "</table>\n",
       "<p>5 rows × 27 columns</p>\n",
       "</div>"
      ],
      "text/plain": [
       "        Name          G        FGA       3PA       FTA  ORB  TRB.1  AST.1  \\\n",
       "0  abdelal01  33.500000   5.375016       NaN  2.340140  NaN  3.525  0.325   \n",
       "1  abdulma02  32.000000  21.890625  7.218750  6.406250  NaN  2.950  3.650   \n",
       "2  abdulta01  27.666667  11.285641  1.922756  4.859071  NaN  5.800  1.400   \n",
       "3  abdursh01  28.000000  14.214286  0.750000  8.892857  NaN  8.400  1.000   \n",
       "4  ackeral01  29.333333  11.107461  3.282642  3.524432  NaN  5.600  2.800   \n",
       "\n",
       "        STL       BLK    ...     Years        AP    LAT  SR   TQS   SVL   MVL  \\\n",
       "0  0.351910  0.484922    ...       4.0  0.500000    NaN NaN   NaN   NaN   NaN   \n",
       "1  1.671875  0.109375    ...       2.0  0.000000    NaN NaN   NaN   NaN   NaN   \n",
       "2  1.020833  0.599423    ...       3.0  0.333333    NaN NaN   NaN   NaN   NaN   \n",
       "3  1.857143  1.250000    ...       1.0  0.000000    NaN NaN   NaN   NaN   NaN   \n",
       "4  1.515493  0.430174    ...       3.0  0.000000  11.67 NaN  3.35  28.0  32.0   \n",
       "\n",
       "    MBP      VORP  VORP_Max  \n",
       "0   NaN -0.460000      -0.2  \n",
       "1   NaN -0.088889       1.6  \n",
       "2   NaN -0.216667       0.2  \n",
       "3   NaN  1.772727       3.5  \n",
       "4  11.0 -0.150000      -0.1  \n",
       "\n",
       "[5 rows x 27 columns]"
      ]
     },
     "execution_count": 6,
     "metadata": {},
     "output_type": "execute_result"
    }
   ],
   "source": [
    "df.head()"
   ]
  },
  {
   "cell_type": "code",
   "execution_count": 7,
   "metadata": {},
   "outputs": [],
   "source": [
    "df_cleaned = df.fillna(np.mean(df, axis=0))"
   ]
  },
  {
   "cell_type": "code",
   "execution_count": 8,
   "metadata": {},
   "outputs": [],
   "source": [
    "X = df_cleaned.values[:,1:24]\n",
    "Y = df_cleaned.VORP_Max"
   ]
  },
  {
   "cell_type": "markdown",
   "metadata": {},
   "source": [
    "## Normalization"
   ]
  },
  {
   "cell_type": "code",
   "execution_count": null,
   "metadata": {},
   "outputs": [],
   "source": [
    "X_normed = StandardScaler().fit_transform(X)"
   ]
  },
  {
   "cell_type": "code",
   "execution_count": 11,
   "metadata": {},
   "outputs": [
    {
     "data": {
      "text/plain": [
       "array([[  7.84371487e-01,  -1.40524409e+00,  -9.30482893e-16, ...,\n",
       "          2.00474761e-14,   4.66236408e-15,  -3.95994687e-15],\n",
       "       [  3.43245195e-01,   3.71041053e+00,   2.52493684e+00, ...,\n",
       "          2.00474761e-14,   4.66236408e-15,  -3.95994687e-15],\n",
       "       [ -9.31119647e-01,   4.25552198e-01,  -2.49185642e-01, ...,\n",
       "          2.00474761e-14,   4.66236408e-15,  -3.95994687e-15],\n",
       "       ..., \n",
       "       [ -1.42125997e+00,  -1.58430783e+00,  -1.20715687e+00, ...,\n",
       "          2.00474761e-14,   4.66236408e-15,  -3.95994687e-15],\n",
       "       [  2.69724147e-01,  -1.46090596e+00,  -6.68410415e-01, ...,\n",
       "         -2.68904671e+00,   2.78245600e+00,   3.12380257e+00],\n",
       "       [ -1.42125997e+00,  -5.20684128e-01,  -9.13860250e-01, ...,\n",
       "          2.27667261e+00,  -2.46689929e+00,  -2.17067071e+00]])"
      ]
     },
     "execution_count": 11,
     "metadata": {},
     "output_type": "execute_result"
    }
   ],
   "source": [
    "X_normed"
   ]
  },
  {
   "cell_type": "markdown",
   "metadata": {
    "collapsed": true
   },
   "source": [
    "## Linear Regression"
   ]
  },
  {
   "cell_type": "code",
   "execution_count": 13,
   "metadata": {},
   "outputs": [],
   "source": [
    "ten_fold = model_selection.KFold(n_splits=10)"
   ]
  },
  {
   "cell_type": "code",
   "execution_count": 14,
   "metadata": {},
   "outputs": [
    {
     "name": "stdout",
     "output_type": "stream",
     "text": [
      "R Squared score of 10-fold cross validation: [ 0.15145039  0.22525397  0.32016299  0.14910338  0.16388545  0.17984808\n",
      "  0.29173092  0.15702101  0.00577214  0.10614464] \n",
      "MSE score of 10-fold cross validation: [ 2.37346138  1.40533488  1.91667535  2.0060124   2.25896726  2.23012245\n",
      "  2.39392806  2.39110991  1.32297701  2.1740341 ] \n"
     ]
    }
   ],
   "source": [
    "lr_model = LinearRegression()\n",
    "# lr_model.fit(X_normed, Y)\n",
    "\n",
    "R2 = model_selection.cross_val_score(lr_model, X_normed, Y, cv=ten_fold, scoring='r2')\n",
    "MSE = model_selection.cross_val_score(lr_model, X_normed, Y, cv=ten_fold, scoring='neg_mean_squared_error')\n",
    "\n",
    "print(\"R Squared score of 10-fold cross validation: {0} \".format(R2))\n",
    "print(\"MSE score of 10-fold cross validation: {0} \".format(-MSE))"
   ]
  },
  {
   "cell_type": "markdown",
   "metadata": {},
   "source": [
    "## Drop Physical Attributes"
   ]
  },
  {
   "cell_type": "code",
   "execution_count": 15,
   "metadata": {},
   "outputs": [
    {
     "data": {
      "text/plain": [
       "Index([u'Name', u'G', u'FGA', u'3PA', u'FTA', u'ORB', u'TRB.1', u'AST.1',\n",
       "       u'STL', u'BLK', u'TOV', u'PF', u'MP.1', u'PTS.1', u'FG%', u'3P%',\n",
       "       u'FT%', u'Years', u'AP', u'LAT', u'SR', u'TQS', u'SVL', u'MVL', u'MBP',\n",
       "       u'VORP', u'VORP_Max'],\n",
       "      dtype='object')"
      ]
     },
     "execution_count": 15,
     "metadata": {},
     "output_type": "execute_result"
    }
   ],
   "source": [
    "df_cleaned.columns"
   ]
  },
  {
   "cell_type": "code",
   "execution_count": 16,
   "metadata": {},
   "outputs": [
    {
     "data": {
      "text/html": [
       "<div>\n",
       "<table border=\"1\" class=\"dataframe\">\n",
       "  <thead>\n",
       "    <tr style=\"text-align: right;\">\n",
       "      <th></th>\n",
       "      <th>Name</th>\n",
       "      <th>G</th>\n",
       "      <th>FGA</th>\n",
       "      <th>3PA</th>\n",
       "      <th>FTA</th>\n",
       "      <th>ORB</th>\n",
       "      <th>TRB.1</th>\n",
       "      <th>AST.1</th>\n",
       "      <th>STL</th>\n",
       "      <th>BLK</th>\n",
       "      <th>...</th>\n",
       "      <th>Years</th>\n",
       "      <th>AP</th>\n",
       "      <th>LAT</th>\n",
       "      <th>SR</th>\n",
       "      <th>TQS</th>\n",
       "      <th>SVL</th>\n",
       "      <th>MVL</th>\n",
       "      <th>MBP</th>\n",
       "      <th>VORP</th>\n",
       "      <th>VORP_Max</th>\n",
       "    </tr>\n",
       "  </thead>\n",
       "  <tbody>\n",
       "    <tr>\n",
       "      <th>0</th>\n",
       "      <td>abdelal01</td>\n",
       "      <td>33.500000</td>\n",
       "      <td>5.375016</td>\n",
       "      <td>2.398469</td>\n",
       "      <td>2.340140</td>\n",
       "      <td>1.64398</td>\n",
       "      <td>3.525</td>\n",
       "      <td>0.325</td>\n",
       "      <td>0.351910</td>\n",
       "      <td>0.484922</td>\n",
       "      <td>...</td>\n",
       "      <td>4.0</td>\n",
       "      <td>0.500000</td>\n",
       "      <td>11.33395</td>\n",
       "      <td>3.045263</td>\n",
       "      <td>3.278702</td>\n",
       "      <td>29.759546</td>\n",
       "      <td>34.894886</td>\n",
       "      <td>10.743644</td>\n",
       "      <td>-0.460000</td>\n",
       "      <td>-0.2</td>\n",
       "    </tr>\n",
       "    <tr>\n",
       "      <th>1</th>\n",
       "      <td>abdulma02</td>\n",
       "      <td>32.000000</td>\n",
       "      <td>21.890625</td>\n",
       "      <td>7.218750</td>\n",
       "      <td>6.406250</td>\n",
       "      <td>1.64398</td>\n",
       "      <td>2.950</td>\n",
       "      <td>3.650</td>\n",
       "      <td>1.671875</td>\n",
       "      <td>0.109375</td>\n",
       "      <td>...</td>\n",
       "      <td>2.0</td>\n",
       "      <td>0.000000</td>\n",
       "      <td>11.33395</td>\n",
       "      <td>3.045263</td>\n",
       "      <td>3.278702</td>\n",
       "      <td>29.759546</td>\n",
       "      <td>34.894886</td>\n",
       "      <td>10.743644</td>\n",
       "      <td>-0.088889</td>\n",
       "      <td>1.6</td>\n",
       "    </tr>\n",
       "    <tr>\n",
       "      <th>2</th>\n",
       "      <td>abdulta01</td>\n",
       "      <td>27.666667</td>\n",
       "      <td>11.285641</td>\n",
       "      <td>1.922756</td>\n",
       "      <td>4.859071</td>\n",
       "      <td>1.64398</td>\n",
       "      <td>5.800</td>\n",
       "      <td>1.400</td>\n",
       "      <td>1.020833</td>\n",
       "      <td>0.599423</td>\n",
       "      <td>...</td>\n",
       "      <td>3.0</td>\n",
       "      <td>0.333333</td>\n",
       "      <td>11.33395</td>\n",
       "      <td>3.045263</td>\n",
       "      <td>3.278702</td>\n",
       "      <td>29.759546</td>\n",
       "      <td>34.894886</td>\n",
       "      <td>10.743644</td>\n",
       "      <td>-0.216667</td>\n",
       "      <td>0.2</td>\n",
       "    </tr>\n",
       "  </tbody>\n",
       "</table>\n",
       "<p>3 rows × 27 columns</p>\n",
       "</div>"
      ],
      "text/plain": [
       "        Name          G        FGA       3PA       FTA      ORB  TRB.1  AST.1  \\\n",
       "0  abdelal01  33.500000   5.375016  2.398469  2.340140  1.64398  3.525  0.325   \n",
       "1  abdulma02  32.000000  21.890625  7.218750  6.406250  1.64398  2.950  3.650   \n",
       "2  abdulta01  27.666667  11.285641  1.922756  4.859071  1.64398  5.800  1.400   \n",
       "\n",
       "        STL       BLK    ...     Years        AP       LAT        SR  \\\n",
       "0  0.351910  0.484922    ...       4.0  0.500000  11.33395  3.045263   \n",
       "1  1.671875  0.109375    ...       2.0  0.000000  11.33395  3.045263   \n",
       "2  1.020833  0.599423    ...       3.0  0.333333  11.33395  3.045263   \n",
       "\n",
       "        TQS        SVL        MVL        MBP      VORP  VORP_Max  \n",
       "0  3.278702  29.759546  34.894886  10.743644 -0.460000      -0.2  \n",
       "1  3.278702  29.759546  34.894886  10.743644 -0.088889       1.6  \n",
       "2  3.278702  29.759546  34.894886  10.743644 -0.216667       0.2  \n",
       "\n",
       "[3 rows x 27 columns]"
      ]
     },
     "execution_count": 16,
     "metadata": {},
     "output_type": "execute_result"
    }
   ],
   "source": [
    "df_cleaned.head(3)"
   ]
  },
  {
   "cell_type": "code",
   "execution_count": 17,
   "metadata": {
    "collapsed": true
   },
   "outputs": [],
   "source": [
    "df_cleaned[\"Y1\"]=0.0\n",
    "df_cleaned[\"Y2\"]=0.0\n",
    "df_cleaned[\"Y3\"]=0.0\n",
    "df_cleaned[\"Y4\"]=0.0"
   ]
  },
  {
   "cell_type": "code",
   "execution_count": null,
   "metadata": {},
   "outputs": [],
   "source": [
    "df_cleaned.Y1[df_cleaned[\"Years\"]==1.0]=1.0\n",
    "df_cleaned.Y2[df_cleaned[\"Years\"]==2.0]=2.0\n",
    "df_cleaned.Y3[df_cleaned[\"Years\"]==3.0]=3.0\n",
    "df_cleaned.Y4[df_cleaned[\"Years\"]==4.0]=4.0"
   ]
  },
  {
   "cell_type": "code",
   "execution_count": 19,
   "metadata": {},
   "outputs": [
    {
     "data": {
      "text/plain": [
       "Index([u'Name', u'G', u'FGA', u'3PA', u'FTA', u'ORB', u'TRB.1', u'AST.1',\n",
       "       u'STL', u'BLK', u'TOV', u'PF', u'MP.1', u'PTS.1', u'FG%', u'3P%',\n",
       "       u'FT%', u'Years', u'AP', u'LAT', u'SR', u'TQS', u'SVL', u'MVL', u'MBP',\n",
       "       u'VORP', u'VORP_Max', u'Y1', u'Y2', u'Y3', u'Y4'],\n",
       "      dtype='object')"
      ]
     },
     "execution_count": 19,
     "metadata": {},
     "output_type": "execute_result"
    }
   ],
   "source": [
    "df_cleaned.columns"
   ]
  },
  {
   "cell_type": "code",
   "execution_count": 20,
   "metadata": {},
   "outputs": [
    {
     "name": "stdout",
     "output_type": "stream",
     "text": [
      "R Squared score of 10-fold cross validation: 0.172876596585 \n",
      "MSE score of 10-fold cross validation: [ 0.60219282  0.31183676  0.62912709  0.52488956  0.79913594  0.69065432\n",
      "  0.71855066  0.65621733  0.41167556  0.59741157] \n"
     ]
    }
   ],
   "source": [
    "X_1_t = df_cleaned.ix[:,['G', 'FGA', '3PA', 'FTA', 'ORB', 'TRB.1', 'AST.1', 'STL', 'BLK', 'TOV', 'PF', 'MP.1', \n",
    "                       'PTS.1', 'FG%', '3P%', 'FT%', 'AP', 'LAT','SR', 'TQS', 'SVL', 'MVL', 'MBP', 'Y1', 'Y2', 'Y3','Y4']]\n",
    "X_1 = X_1_t.values\n",
    "Y_1 = df_cleaned.VORP\n",
    "X_1_normed = StandardScaler().fit_transform(X_1)\n",
    "\n",
    "lr_model_1 = LinearRegression()\n",
    "# lr_model.fit(X_normed, Y)\n",
    "\n",
    "R2_1 = model_selection.cross_val_score(lr_model_1, X_1_normed, Y_1, cv=ten_fold, scoring='r2').mean()\n",
    "MSE_1 = model_selection.cross_val_score(lr_model_1, X_1_normed, Y_1, cv=ten_fold, scoring='neg_mean_squared_error')\n",
    "\n",
    "print(\"R Squared score of 10-fold cross validation: {0} \".format(R2_1))\n",
    "print(\"MSE score of 10-fold cross validation: {0} \".format(-MSE_1))"
   ]
  },
  {
   "cell_type": "code",
   "execution_count": 21,
   "metadata": {},
   "outputs": [
    {
     "data": {
      "text/plain": [
       "array([[<matplotlib.axes._subplots.AxesSubplot object at 0x110b069d0>,\n",
       "        <matplotlib.axes._subplots.AxesSubplot object at 0x111657290>,\n",
       "        <matplotlib.axes._subplots.AxesSubplot object at 0x11401bb10>,\n",
       "        <matplotlib.axes._subplots.AxesSubplot object at 0x11407edd0>,\n",
       "        <matplotlib.axes._subplots.AxesSubplot object at 0x1140f2690>,\n",
       "        <matplotlib.axes._subplots.AxesSubplot object at 0x114176b10>],\n",
       "       [<matplotlib.axes._subplots.AxesSubplot object at 0x114135490>,\n",
       "        <matplotlib.axes._subplots.AxesSubplot object at 0x114270750>,\n",
       "        <matplotlib.axes._subplots.AxesSubplot object at 0x1142f65d0>,\n",
       "        <matplotlib.axes._subplots.AxesSubplot object at 0x11436a2d0>,\n",
       "        <matplotlib.axes._subplots.AxesSubplot object at 0x1143ef310>,\n",
       "        <matplotlib.axes._subplots.AxesSubplot object at 0x1144569d0>],\n",
       "       [<matplotlib.axes._subplots.AxesSubplot object at 0x1144dca10>,\n",
       "        <matplotlib.axes._subplots.AxesSubplot object at 0x114551210>,\n",
       "        <matplotlib.axes._subplots.AxesSubplot object at 0x1145d73d0>,\n",
       "        <matplotlib.axes._subplots.AxesSubplot object at 0x11463dd50>,\n",
       "        <matplotlib.axes._subplots.AxesSubplot object at 0x1146d2050>,\n",
       "        <matplotlib.axes._subplots.AxesSubplot object at 0x11465a850>],\n",
       "       [<matplotlib.axes._subplots.AxesSubplot object at 0x1147bbd10>,\n",
       "        <matplotlib.axes._subplots.AxesSubplot object at 0x1147f9d90>,\n",
       "        <matplotlib.axes._subplots.AxesSubplot object at 0x1148b6990>,\n",
       "        <matplotlib.axes._subplots.AxesSubplot object at 0x11493c810>,\n",
       "        <matplotlib.axes._subplots.AxesSubplot object at 0x1149b01d0>,\n",
       "        <matplotlib.axes._subplots.AxesSubplot object at 0x114a37110>],\n",
       "       [<matplotlib.axes._subplots.AxesSubplot object at 0x114a83910>,\n",
       "        <matplotlib.axes._subplots.AxesSubplot object at 0x114b09a10>,\n",
       "        <matplotlib.axes._subplots.AxesSubplot object at 0x114b7e490>,\n",
       "        <matplotlib.axes._subplots.AxesSubplot object at 0x114c02810>,\n",
       "        <matplotlib.axes._subplots.AxesSubplot object at 0x114bb6f10>,\n",
       "        <matplotlib.axes._subplots.AxesSubplot object at 0x114cfd550>]], dtype=object)"
      ]
     },
     "execution_count": 21,
     "metadata": {},
     "output_type": "execute_result"
    },
    {
     "data": {
      "image/png": "[encoded data removed]",
      "text/plain": [
       "<matplotlib.figure.Figure at 0x110b25a10>"
      ]
     },
     "metadata": {},
     "output_type": "display_data"
    }
   ],
   "source": [
    "df.hist(figsize=(12,8), layout=(5,6))"
   ]
  },
  {
   "cell_type": "markdown",
   "metadata": {
    "collapsed": true
   },
   "source": [
    "## Classification and Regression Trees (CART)"
   ]
  },
  {
   "cell_type": "code",
   "execution_count": 22,
   "metadata": {},
   "outputs": [
    {
     "name": "stdout",
     "output_type": "stream",
     "text": [
      "DecisionTreeRegressor(criterion='mse', max_depth=2, max_features=None,\n",
      "           max_leaf_nodes=None, min_impurity_split=1e-07,\n",
      "           min_samples_leaf=1, min_samples_split=10,\n",
      "           min_weight_fraction_leaf=0.0, presort=False, random_state=None,\n",
      "           splitter='best')\n"
     ]
    }
   ],
   "source": [
    "cart1 = DecisionTreeRegressor(min_samples_split=10, max_depth=2)\n",
    "cart1.fit(X_1_normed, Y_1)\n",
    "print(cart1)"
   ]
  },
  {
   "cell_type": "code",
   "execution_count": 23,
   "metadata": {},
   "outputs": [
    {
     "data": {
      "text/plain": [
       "array([-0.78128192, -0.38615775, -0.74611006, -0.61239825, -0.86170293,\n",
       "       -0.74848834, -0.87515663, -0.71459777, -0.41824036, -0.61281829])"
      ]
     },
     "execution_count": 23,
     "metadata": {},
     "output_type": "execute_result"
    }
   ],
   "source": [
    "model_selection.cross_val_score(cart1, X_1_normed, Y_1, scoring = 'neg_mean_squared_error', cv = 10)"
   ]
  },
  {
   "cell_type": "code",
   "execution_count": 24,
   "metadata": {},
   "outputs": [
    {
     "data": {
      "text/plain": [
       "array([-0.08357102,  0.06325349,  0.15069907,  0.00530794,  0.09419827,\n",
       "        0.09614054,  0.11153619,  0.05882379,  0.03316033,  0.08559733])"
      ]
     },
     "execution_count": 24,
     "metadata": {},
     "output_type": "execute_result"
    }
   ],
   "source": [
    "model_selection.cross_val_score(cart1, X_1_normed, Y_1, scoring = 'r2', cv = 10)"
   ]
  },
  {
   "cell_type": "markdown",
   "metadata": {},
   "source": [
    "## Classification"
   ]
  },
  {
   "cell_type": "code",
   "execution_count": null,
   "metadata": {},
   "outputs": [],
   "source": [
    "df_cleaned[\"Superstar\"]=\"0\"\n",
    "df_cleaned.Superstar[df_cleaned[\"VORP\"]>=1.0]=\"1\""
   ]
  },
  {
   "cell_type": "code",
   "execution_count": 26,
   "metadata": {
    "collapsed": true
   },
   "outputs": [],
   "source": [
    "Y_2 = df_cleaned.Superstar"
   ]
  },
  {
   "cell_type": "code",
   "execution_count": 27,
   "metadata": {},
   "outputs": [
    {
     "data": {
      "text/plain": [
       "LogisticRegressionCV(Cs=10, class_weight='balanced', cv=10, dual=False,\n",
       "           fit_intercept=True, intercept_scaling=1.0, max_iter=100,\n",
       "           multi_class='ovr', n_jobs=1, penalty='l2', random_state=None,\n",
       "           refit=True, scoring=None, solver='lbfgs', tol=0.0001, verbose=0)"
      ]
     },
     "execution_count": 27,
     "metadata": {},
     "output_type": "execute_result"
    }
   ],
   "source": [
    "# 10-fold Cross-Validation\n",
    "logreg_cv = linear_model.LogisticRegressionCV(cv=10, class_weight='balanced')\n",
    "logreg_cv.fit(X_1_normed, Y_2)"
   ]
  },
  {
   "cell_type": "code",
   "execution_count": 28,
   "metadata": {},
   "outputs": [
    {
     "data": {
      "text/plain": [
       "0.75062468765617196"
      ]
     },
     "execution_count": 28,
     "metadata": {},
     "output_type": "execute_result"
    }
   ],
   "source": [
    "# 10-fold cross-validation error\n",
    "logreg_cv.score(X_1_normed, Y_2)"
   ]
  },
  {
   "cell_type": "code",
   "execution_count": 29,
   "metadata": {},
   "outputs": [
    {
     "data": {
      "text/plain": [
       "array(['0', '0', '0', ..., '0', '0', '0'], dtype=object)"
      ]
     },
     "execution_count": 29,
     "metadata": {},
     "output_type": "execute_result"
    }
   ],
   "source": [
    "Y_2_pred = logreg_cv.predict(X_1_normed)\n",
    "Y_2_pred"
   ]
  },
  {
   "cell_type": "code",
   "execution_count": 34,
   "metadata": {},
   "outputs": [],
   "source": [
    "#confusion_matrix(Y_2, Y_2_pred)"
   ]
  },
  {
   "cell_type": "code",
   "execution_count": 35,
   "metadata": {},
   "outputs": [
    {
     "data": {
      "text/plain": [
       "0"
      ]
     },
     "execution_count": 35,
     "metadata": {},
     "output_type": "execute_result"
    }
   ],
   "source": [
    "208/(1736+208)"
   ]
  },
  {
   "cell_type": "markdown",
   "metadata": {
    "collapsed": true
   },
   "source": [
    "## Random Forest"
   ]
  },
  {
   "cell_type": "code",
   "execution_count": 36,
   "metadata": {},
   "outputs": [],
   "source": [
    "rf = RandomForestClassifier(n_estimators = 10, max_features = 5)"
   ]
  },
  {
   "cell_type": "code",
   "execution_count": 37,
   "metadata": {
    "collapsed": true
   },
   "outputs": [],
   "source": [
    "from sklearn.model_selection import train_test_split\n",
    "X_train, X_test, Y_train, Y_test = train_test_split(X_1_normed, Y_2)"
   ]
  },
  {
   "cell_type": "code",
   "execution_count": 38,
   "metadata": {},
   "outputs": [
    {
     "name": "stdout",
     "output_type": "stream",
     "text": [
      "[[1307    1]\n",
      " [  20  172]]\n",
      "[[440   3]\n",
      " [ 53   5]]\n"
     ]
    }
   ],
   "source": [
    "rf.fit(X_train, Y_train)\n",
    "Y_train_pred = rf.predict(X_train)\n",
    "Y_test_pred = rf.predict(X_test)\n",
    "print(metrics.confusion_matrix(Y_train, Y_train_pred))\n",
    "print(metrics.confusion_matrix(Y_test, Y_test_pred))"
   ]
  },
  {
   "cell_type": "code",
   "execution_count": 39,
   "metadata": {},
   "outputs": [
    {
     "name": "stdout",
     "output_type": "stream",
     "text": [
      "[[1307    1]\n",
      " [  61  131]]\n",
      "[[431  12]\n",
      " [ 53   5]]\n"
     ]
    }
   ],
   "source": [
    "from sklearn.ensemble import GradientBoostingClassifier\n",
    "gbc = GradientBoostingClassifier()\n",
    "gbc.fit(X_train, Y_train)\n",
    "Y_train_pred = gbc.predict(X_train)\n",
    "Y_test_pred = gbc.predict(X_test)\n",
    "print(metrics.confusion_matrix(Y_train, Y_train_pred))\n",
    "print(metrics.confusion_matrix(Y_test, Y_test_pred))"
   ]
  }
 ],
 "metadata": {
  "kernelspec": {
   "display_name": "Python 2",
   "language": "python",
   "name": "python2"
  },
  "language_info": {
   "codemirror_mode": {
    "name": "ipython",
    "version": 2
   },
   "file_extension": ".py",
   "mimetype": "text/x-python",
   "name": "python",
   "nbconvert_exporter": "python",
   "pygments_lexer": "ipython2",
   "version": "2.7.15"
  }
 },
 "nbformat": 4,
 "nbformat_minor": 2
}
